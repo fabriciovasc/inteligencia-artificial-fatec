{
 "cells": [
  {
   "cell_type": "markdown",
   "id": "70bc83db",
   "metadata": {},
   "source": [
    "# Agrupamento K-MEANS usando Python\n",
    "### Dataset usado: bmw.csv"
   ]
  },
  {
   "cell_type": "markdown",
   "source": [
    "#### Bibliotecas"
   ],
   "metadata": {
    "collapsed": false,
    "pycharm": {
     "name": "#%% md\n"
    }
   }
  },
  {
   "cell_type": "code",
   "execution_count": 1,
   "id": "ff95bfbd",
   "metadata": {},
   "outputs": [],
   "source": [
    "import matplotlib.pyplot as plt\n",
    "import pandas as pd\n",
    "from sklearn.cluster import KMeans"
   ]
  },
  {
   "cell_type": "markdown",
   "source": [
    "#### Leitura e visualização dos dados"
   ],
   "metadata": {
    "collapsed": false,
    "pycharm": {
     "name": "#%% md\n"
    }
   }
  },
  {
   "cell_type": "code",
   "execution_count": 2,
   "id": "c57f65ae",
   "metadata": {},
   "outputs": [],
   "source": [
    "df = pd.read_csv('cars.csv', ';')"
   ]
  },
  {
   "cell_type": "code",
   "execution_count": 3,
   "id": "c23a1cf4",
   "metadata": {},
   "outputs": [
    {
     "data": {
      "text/html": [
       "<div>\n",
       "<style scoped>\n",
       "    .dataframe tbody tr th:only-of-type {\n",
       "        vertical-align: middle;\n",
       "    }\n",
       "\n",
       "    .dataframe tbody tr th {\n",
       "        vertical-align: top;\n",
       "    }\n",
       "\n",
       "    .dataframe thead th {\n",
       "        text-align: right;\n",
       "    }\n",
       "</style>\n",
       "<table border=\"1\" class=\"dataframe\">\n",
       "  <thead>\n",
       "    <tr style=\"text-align: right;\">\n",
       "      <th></th>\n",
       "      <th>0</th>\n",
       "      <th>0.1</th>\n",
       "      <th>0.2</th>\n",
       "      <th>1</th>\n",
       "      <th>0.3</th>\n",
       "      <th>0.4</th>\n",
       "      <th>0.5</th>\n",
       "      <th>1.1</th>\n",
       "      <th>1.2</th>\n",
       "      <th>0.6</th>\n",
       "      <th>...</th>\n",
       "      <th>1.4</th>\n",
       "      <th>0.11</th>\n",
       "      <th>0.12</th>\n",
       "      <th>1.5</th>\n",
       "      <th>0.13</th>\n",
       "      <th>0.14</th>\n",
       "      <th>1.6</th>\n",
       "      <th>0.15</th>\n",
       "      <th>0.16</th>\n",
       "      <th>0.17</th>\n",
       "    </tr>\n",
       "  </thead>\n",
       "  <tbody>\n",
       "    <tr>\n",
       "      <th>0</th>\n",
       "      <td>0</td>\n",
       "      <td>0</td>\n",
       "      <td>0</td>\n",
       "      <td>1</td>\n",
       "      <td>0</td>\n",
       "      <td>0</td>\n",
       "      <td>0</td>\n",
       "      <td>1</td>\n",
       "      <td>1</td>\n",
       "      <td>0</td>\n",
       "      <td>...</td>\n",
       "      <td>1</td>\n",
       "      <td>0</td>\n",
       "      <td>0</td>\n",
       "      <td>0</td>\n",
       "      <td>1</td>\n",
       "      <td>0</td>\n",
       "      <td>1</td>\n",
       "      <td>0</td>\n",
       "      <td>0</td>\n",
       "      <td>0</td>\n",
       "    </tr>\n",
       "    <tr>\n",
       "      <th>1</th>\n",
       "      <td>0</td>\n",
       "      <td>0</td>\n",
       "      <td>0</td>\n",
       "      <td>1</td>\n",
       "      <td>0</td>\n",
       "      <td>0</td>\n",
       "      <td>0</td>\n",
       "      <td>1</td>\n",
       "      <td>1</td>\n",
       "      <td>0</td>\n",
       "      <td>...</td>\n",
       "      <td>1</td>\n",
       "      <td>0</td>\n",
       "      <td>0</td>\n",
       "      <td>0</td>\n",
       "      <td>0</td>\n",
       "      <td>1</td>\n",
       "      <td>1</td>\n",
       "      <td>0</td>\n",
       "      <td>0</td>\n",
       "      <td>0</td>\n",
       "    </tr>\n",
       "    <tr>\n",
       "      <th>2</th>\n",
       "      <td>0</td>\n",
       "      <td>0</td>\n",
       "      <td>0</td>\n",
       "      <td>1</td>\n",
       "      <td>0</td>\n",
       "      <td>0</td>\n",
       "      <td>0</td>\n",
       "      <td>1</td>\n",
       "      <td>1</td>\n",
       "      <td>0</td>\n",
       "      <td>...</td>\n",
       "      <td>0</td>\n",
       "      <td>1</td>\n",
       "      <td>0</td>\n",
       "      <td>1</td>\n",
       "      <td>0</td>\n",
       "      <td>0</td>\n",
       "      <td>1</td>\n",
       "      <td>0</td>\n",
       "      <td>0</td>\n",
       "      <td>0</td>\n",
       "    </tr>\n",
       "    <tr>\n",
       "      <th>3</th>\n",
       "      <td>0</td>\n",
       "      <td>0</td>\n",
       "      <td>0</td>\n",
       "      <td>1</td>\n",
       "      <td>0</td>\n",
       "      <td>0</td>\n",
       "      <td>0</td>\n",
       "      <td>1</td>\n",
       "      <td>1</td>\n",
       "      <td>0</td>\n",
       "      <td>...</td>\n",
       "      <td>0</td>\n",
       "      <td>1</td>\n",
       "      <td>0</td>\n",
       "      <td>0</td>\n",
       "      <td>1</td>\n",
       "      <td>0</td>\n",
       "      <td>1</td>\n",
       "      <td>0</td>\n",
       "      <td>0</td>\n",
       "      <td>0</td>\n",
       "    </tr>\n",
       "    <tr>\n",
       "      <th>4</th>\n",
       "      <td>0</td>\n",
       "      <td>0</td>\n",
       "      <td>0</td>\n",
       "      <td>1</td>\n",
       "      <td>0</td>\n",
       "      <td>0</td>\n",
       "      <td>0</td>\n",
       "      <td>1</td>\n",
       "      <td>1</td>\n",
       "      <td>0</td>\n",
       "      <td>...</td>\n",
       "      <td>0</td>\n",
       "      <td>1</td>\n",
       "      <td>0</td>\n",
       "      <td>0</td>\n",
       "      <td>0</td>\n",
       "      <td>1</td>\n",
       "      <td>1</td>\n",
       "      <td>0</td>\n",
       "      <td>0</td>\n",
       "      <td>0</td>\n",
       "    </tr>\n",
       "    <tr>\n",
       "      <th>5</th>\n",
       "      <td>0</td>\n",
       "      <td>0</td>\n",
       "      <td>0</td>\n",
       "      <td>1</td>\n",
       "      <td>0</td>\n",
       "      <td>0</td>\n",
       "      <td>0</td>\n",
       "      <td>1</td>\n",
       "      <td>1</td>\n",
       "      <td>0</td>\n",
       "      <td>...</td>\n",
       "      <td>0</td>\n",
       "      <td>0</td>\n",
       "      <td>1</td>\n",
       "      <td>1</td>\n",
       "      <td>0</td>\n",
       "      <td>0</td>\n",
       "      <td>1</td>\n",
       "      <td>0</td>\n",
       "      <td>0</td>\n",
       "      <td>0</td>\n",
       "    </tr>\n",
       "    <tr>\n",
       "      <th>6</th>\n",
       "      <td>0</td>\n",
       "      <td>0</td>\n",
       "      <td>0</td>\n",
       "      <td>1</td>\n",
       "      <td>0</td>\n",
       "      <td>0</td>\n",
       "      <td>0</td>\n",
       "      <td>1</td>\n",
       "      <td>1</td>\n",
       "      <td>0</td>\n",
       "      <td>...</td>\n",
       "      <td>0</td>\n",
       "      <td>0</td>\n",
       "      <td>1</td>\n",
       "      <td>0</td>\n",
       "      <td>1</td>\n",
       "      <td>0</td>\n",
       "      <td>1</td>\n",
       "      <td>0</td>\n",
       "      <td>0</td>\n",
       "      <td>0</td>\n",
       "    </tr>\n",
       "    <tr>\n",
       "      <th>7</th>\n",
       "      <td>0</td>\n",
       "      <td>0</td>\n",
       "      <td>0</td>\n",
       "      <td>1</td>\n",
       "      <td>0</td>\n",
       "      <td>0</td>\n",
       "      <td>0</td>\n",
       "      <td>1</td>\n",
       "      <td>1</td>\n",
       "      <td>0</td>\n",
       "      <td>...</td>\n",
       "      <td>0</td>\n",
       "      <td>0</td>\n",
       "      <td>1</td>\n",
       "      <td>0</td>\n",
       "      <td>0</td>\n",
       "      <td>1</td>\n",
       "      <td>1</td>\n",
       "      <td>0</td>\n",
       "      <td>0</td>\n",
       "      <td>0</td>\n",
       "    </tr>\n",
       "    <tr>\n",
       "      <th>8</th>\n",
       "      <td>0</td>\n",
       "      <td>0</td>\n",
       "      <td>0</td>\n",
       "      <td>1</td>\n",
       "      <td>0</td>\n",
       "      <td>0</td>\n",
       "      <td>0</td>\n",
       "      <td>1</td>\n",
       "      <td>1</td>\n",
       "      <td>0</td>\n",
       "      <td>...</td>\n",
       "      <td>1</td>\n",
       "      <td>0</td>\n",
       "      <td>0</td>\n",
       "      <td>1</td>\n",
       "      <td>0</td>\n",
       "      <td>0</td>\n",
       "      <td>1</td>\n",
       "      <td>0</td>\n",
       "      <td>0</td>\n",
       "      <td>0</td>\n",
       "    </tr>\n",
       "    <tr>\n",
       "      <th>9</th>\n",
       "      <td>0</td>\n",
       "      <td>0</td>\n",
       "      <td>0</td>\n",
       "      <td>1</td>\n",
       "      <td>0</td>\n",
       "      <td>0</td>\n",
       "      <td>0</td>\n",
       "      <td>1</td>\n",
       "      <td>1</td>\n",
       "      <td>0</td>\n",
       "      <td>...</td>\n",
       "      <td>1</td>\n",
       "      <td>0</td>\n",
       "      <td>0</td>\n",
       "      <td>0</td>\n",
       "      <td>1</td>\n",
       "      <td>0</td>\n",
       "      <td>1</td>\n",
       "      <td>0</td>\n",
       "      <td>0</td>\n",
       "      <td>0</td>\n",
       "    </tr>\n",
       "  </tbody>\n",
       "</table>\n",
       "<p>10 rows × 25 columns</p>\n",
       "</div>"
      ],
      "text/plain": [
       "   0  0.1  0.2  1  0.3  0.4  0.5  1.1  1.2  0.6  ...  1.4  0.11  0.12  1.5  \\\n",
       "0  0    0    0  1    0    0    0    1    1    0  ...    1     0     0    0   \n",
       "1  0    0    0  1    0    0    0    1    1    0  ...    1     0     0    0   \n",
       "2  0    0    0  1    0    0    0    1    1    0  ...    0     1     0    1   \n",
       "3  0    0    0  1    0    0    0    1    1    0  ...    0     1     0    0   \n",
       "4  0    0    0  1    0    0    0    1    1    0  ...    0     1     0    0   \n",
       "5  0    0    0  1    0    0    0    1    1    0  ...    0     0     1    1   \n",
       "6  0    0    0  1    0    0    0    1    1    0  ...    0     0     1    0   \n",
       "7  0    0    0  1    0    0    0    1    1    0  ...    0     0     1    0   \n",
       "8  0    0    0  1    0    0    0    1    1    0  ...    1     0     0    1   \n",
       "9  0    0    0  1    0    0    0    1    1    0  ...    1     0     0    0   \n",
       "\n",
       "   0.13  0.14  1.6  0.15  0.16  0.17  \n",
       "0     1     0    1     0     0     0  \n",
       "1     0     1    1     0     0     0  \n",
       "2     0     0    1     0     0     0  \n",
       "3     1     0    1     0     0     0  \n",
       "4     0     1    1     0     0     0  \n",
       "5     0     0    1     0     0     0  \n",
       "6     1     0    1     0     0     0  \n",
       "7     0     1    1     0     0     0  \n",
       "8     0     0    1     0     0     0  \n",
       "9     1     0    1     0     0     0  \n",
       "\n",
       "[10 rows x 25 columns]"
      ]
     },
     "execution_count": 3,
     "metadata": {},
     "output_type": "execute_result"
    }
   ],
   "source": [
    "df.head(10)"
   ]
  },
  {
   "cell_type": "code",
   "execution_count": 4,
   "id": "ae75d07c",
   "metadata": {},
   "outputs": [
    {
     "data": {
      "text/plain": [
       "(1727, 25)"
      ]
     },
     "execution_count": 4,
     "metadata": {},
     "output_type": "execute_result"
    }
   ],
   "source": [
    "df.shape"
   ]
  },
  {
   "cell_type": "code",
   "execution_count": 17,
   "id": "9dff6fe2",
   "metadata": {},
   "outputs": [
    {
     "data": {
      "text/plain": [
       "KMeans(init='random', n_clusters=3)"
      ]
     },
     "execution_count": 17,
     "metadata": {},
     "output_type": "execute_result"
    }
   ],
   "source": [
    "kmeans = KMeans(n_clusters = 3, init = 'random')\n",
    "kmeans"
   ]
  },
  {
   "cell_type": "markdown",
   "id": "4e6ed2c5",
   "metadata": {},
   "source": [
    "#### Treino do modelo com os dados"
   ]
  },
  {
   "cell_type": "code",
   "execution_count": 19,
   "id": "856553e6",
   "metadata": {},
   "outputs": [
    {
     "data": {
      "text/plain": [
       "KMeans(init='random', n_clusters=3)"
      ]
     },
     "execution_count": 19,
     "metadata": {},
     "output_type": "execute_result"
    }
   ],
   "source": [
    "kmeans.fit(df)"
   ]
  },
  {
   "cell_type": "markdown",
   "id": "52e1f29c",
   "metadata": {},
   "source": [
    "#### Visualização dos Centroids"
   ]
  },
  {
   "cell_type": "code",
   "execution_count": 20,
   "id": "696788fb",
   "metadata": {},
   "outputs": [
    {
     "data": {
      "text/plain": [
       "array([[ 1.79810726e-01,  1.95583596e-01,  2.83911672e-01,\n",
       "         3.40694006e-01,  1.95583596e-01,  1.95583596e-01,\n",
       "         2.68138801e-01,  3.40694006e-01,  2.87066246e-01,\n",
       "         2.46056782e-01,  2.33438486e-01,  2.33438486e-01,\n",
       "         6.05678233e-01,  1.89274448e-01,  2.05047319e-01,\n",
       "         4.06940063e-01,  3.15457413e-01,  2.77602524e-01,\n",
       "         1.11022302e-16,  5.63091483e-01,  4.36908517e-01,\n",
       "         1.00000000e+00,  3.33066907e-16,  4.85722573e-17,\n",
       "        -6.93889390e-18],\n",
       "       [ 2.50434783e-01,  2.50434783e-01,  2.50434783e-01,\n",
       "         2.48695652e-01,  2.50434783e-01,  2.50434783e-01,\n",
       "         2.50434783e-01,  2.48695652e-01,  2.48695652e-01,\n",
       "         2.50434783e-01,  2.50434783e-01,  2.50434783e-01,\n",
       "         3.32173913e-01,  3.33913043e-01,  3.33913043e-01,\n",
       "         3.32173913e-01,  3.33913043e-01,  3.33913043e-01,\n",
       "         1.00000000e+00,  2.77555756e-16,  2.77555756e-16,\n",
       "         1.00000000e+00,  3.05311332e-16,  4.16333634e-17,\n",
       "        -6.93889390e-18],\n",
       "       [ 3.35907336e-01,  3.16602317e-01,  2.08494208e-01,\n",
       "         1.38996139e-01,  3.16602317e-01,  3.16602317e-01,\n",
       "         2.27799228e-01,  1.38996139e-01,  2.04633205e-01,\n",
       "         2.54826255e-01,  2.70270270e-01,  2.70270270e-01,\n",
       "         3.88578059e-16,  5.09652510e-01,  4.90347490e-01,\n",
       "         2.43243243e-01,  3.55212355e-01,  4.01544402e-01,\n",
       "         3.88578059e-16,  4.22779923e-01,  5.77220077e-01,\n",
       "        -3.33066907e-16,  7.41312741e-01,  1.33204633e-01,\n",
       "         1.25482625e-01]])"
      ]
     },
     "execution_count": 20,
     "metadata": {},
     "output_type": "execute_result"
    }
   ],
   "source": [
    "kmeans.cluster_centers_"
   ]
  },
  {
   "cell_type": "markdown",
   "id": "3e981919",
   "metadata": {},
   "source": [
    "#### Treinando modelo..."
   ]
  },
  {
   "cell_type": "code",
   "execution_count": 21,
   "id": "5fe9b710",
   "metadata": {},
   "outputs": [
    {
     "data": {
      "text/plain": [
       "KMeans(init='random', n_clusters=3)"
      ]
     },
     "execution_count": 21,
     "metadata": {},
     "output_type": "execute_result"
    }
   ],
   "source": [
    "kmeans.fit(df)"
   ]
  },
  {
   "cell_type": "markdown",
   "id": "2fa27cd8",
   "metadata": {},
   "source": [
    "#### Visualização dos Centroids"
   ]
  },
  {
   "cell_type": "code",
   "execution_count": 9,
   "id": "58f86c30",
   "metadata": {},
   "outputs": [
    {
     "data": {
      "text/plain": [
       "array([[ 1.79810726e-01,  1.95583596e-01,  2.83911672e-01,\n",
       "         3.40694006e-01,  1.95583596e-01,  1.95583596e-01,\n",
       "         2.68138801e-01,  3.40694006e-01,  2.87066246e-01,\n",
       "         2.46056782e-01,  2.33438486e-01,  2.33438486e-01,\n",
       "         6.05678233e-01,  1.89274448e-01,  2.05047319e-01,\n",
       "         4.06940063e-01,  3.15457413e-01,  2.77602524e-01,\n",
       "         1.66533454e-16,  5.63091483e-01,  4.36908517e-01,\n",
       "         1.00000000e+00,  3.60822483e-16,  4.85722573e-17,\n",
       "        -6.93889390e-18],\n",
       "       [ 2.50434783e-01,  2.50434783e-01,  2.50434783e-01,\n",
       "         2.48695652e-01,  2.50434783e-01,  2.50434783e-01,\n",
       "         2.50434783e-01,  2.48695652e-01,  2.48695652e-01,\n",
       "         2.50434783e-01,  2.50434783e-01,  2.50434783e-01,\n",
       "         3.32173913e-01,  3.33913043e-01,  3.33913043e-01,\n",
       "         3.32173913e-01,  3.33913043e-01,  3.33913043e-01,\n",
       "         1.00000000e+00,  2.22044605e-16,  2.22044605e-16,\n",
       "         1.00000000e+00,  3.05311332e-16,  4.16333634e-17,\n",
       "        -6.93889390e-18],\n",
       "       [ 3.35907336e-01,  3.16602317e-01,  2.08494208e-01,\n",
       "         1.38996139e-01,  3.16602317e-01,  3.16602317e-01,\n",
       "         2.27799228e-01,  1.38996139e-01,  2.04633205e-01,\n",
       "         2.54826255e-01,  2.70270270e-01,  2.70270270e-01,\n",
       "         3.88578059e-16,  5.09652510e-01,  4.90347490e-01,\n",
       "         2.43243243e-01,  3.55212355e-01,  4.01544402e-01,\n",
       "         3.88578059e-16,  4.22779923e-01,  5.77220077e-01,\n",
       "        -4.44089210e-16,  7.41312741e-01,  1.33204633e-01,\n",
       "         1.25482625e-01]])"
      ]
     },
     "execution_count": 9,
     "metadata": {},
     "output_type": "execute_result"
    }
   ],
   "source": [
    "kmeans.cluster_centers_"
   ]
  },
  {
   "cell_type": "code",
   "execution_count": 10,
   "id": "c1666d29",
   "metadata": {},
   "outputs": [
    {
     "data": {
      "text/plain": [
       "array([[2.72853075, 1.72922032, 2.36554601],\n",
       "       [2.67132921, 1.80071342, 2.36554601],\n",
       "       [2.84015874, 2.07348768, 1.89534421],\n",
       "       ...,\n",
       "       [2.47241456, 2.4280786 , 1.89167033],\n",
       "       [2.23626131, 2.60180374, 2.75289241],\n",
       "       [2.16966088, 2.64985823, 2.75289241]])"
      ]
     },
     "execution_count": 10,
     "metadata": {},
     "output_type": "execute_result"
    }
   ],
   "source": [
    "distance = kmeans.fit_transform(df)\n",
    "distance"
   ]
  },
  {
   "cell_type": "code",
   "execution_count": 11,
   "id": "0b1e3639",
   "metadata": {},
   "outputs": [
    {
     "data": {
      "text/plain": [
       "array([1, 1, 2, ..., 2, 0, 0], dtype=int32)"
      ]
     },
     "execution_count": 11,
     "metadata": {},
     "output_type": "execute_result"
    }
   ],
   "source": [
    "labels = kmeans.labels_\n",
    "labels"
   ]
  },
  {
   "cell_type": "code",
   "execution_count": 12,
   "id": "4b232051",
   "metadata": {},
   "outputs": [
    {
     "data": {
      "text/plain": [
       "array([[ 3.35907336e-01,  3.16602317e-01,  2.08494208e-01,\n",
       "         1.38996139e-01,  3.16602317e-01,  3.16602317e-01,\n",
       "         2.27799228e-01,  1.38996139e-01,  2.04633205e-01,\n",
       "         2.54826255e-01,  2.70270270e-01,  2.70270270e-01,\n",
       "         3.88578059e-16,  5.09652510e-01,  4.90347490e-01,\n",
       "         2.43243243e-01,  3.55212355e-01,  4.01544402e-01,\n",
       "         3.88578059e-16,  4.22779923e-01,  5.77220077e-01,\n",
       "        -3.33066907e-16,  7.41312741e-01,  1.33204633e-01,\n",
       "         1.25482625e-01],\n",
       "       [ 1.79810726e-01,  1.95583596e-01,  2.83911672e-01,\n",
       "         3.40694006e-01,  1.95583596e-01,  1.95583596e-01,\n",
       "         2.68138801e-01,  3.40694006e-01,  2.87066246e-01,\n",
       "         2.46056782e-01,  2.33438486e-01,  2.33438486e-01,\n",
       "         6.05678233e-01,  1.89274448e-01,  2.05047319e-01,\n",
       "         4.06940063e-01,  3.15457413e-01,  2.77602524e-01,\n",
       "         1.66533454e-16,  5.63091483e-01,  4.36908517e-01,\n",
       "         1.00000000e+00,  3.60822483e-16,  4.16333634e-17,\n",
       "        -6.93889390e-18],\n",
       "       [ 2.50434783e-01,  2.50434783e-01,  2.50434783e-01,\n",
       "         2.48695652e-01,  2.50434783e-01,  2.50434783e-01,\n",
       "         2.50434783e-01,  2.48695652e-01,  2.48695652e-01,\n",
       "         2.50434783e-01,  2.50434783e-01,  2.50434783e-01,\n",
       "         3.32173913e-01,  3.33913043e-01,  3.33913043e-01,\n",
       "         3.32173913e-01,  3.33913043e-01,  3.33913043e-01,\n",
       "         1.00000000e+00,  2.22044605e-16,  2.22044605e-16,\n",
       "         1.00000000e+00,  2.77555756e-16,  4.16333634e-17,\n",
       "        -1.38777878e-17]])"
      ]
     },
     "execution_count": 12,
     "metadata": {},
     "output_type": "execute_result"
    }
   ],
   "source": [
    "kmeans.cluster_centers_"
   ]
  },
  {
   "cell_type": "markdown",
   "id": "28f593eb",
   "metadata": {},
   "source": [
    "## Cálculo de WCSSE - Within Cluster Sum of Squared Errors"
   ]
  },
  {
   "cell_type": "code",
   "execution_count": 13,
   "id": "b1b0d882",
   "metadata": {},
   "outputs": [
    {
     "name": "stdout",
     "output_type": "stream",
     "text": [
      "1 8129.791546033633\n",
      "2 7253.871395677855\n",
      "3 6752.173914801611\n",
      "4 6442.196695537981\n",
      "5 6207.039237780389\n",
      "6 5979.642291818246\n",
      "7 5831.66834915509\n",
      "8 5647.017883988301\n",
      "9 5575.252555948958\n",
      "10 5402.763420920654\n"
     ]
    }
   ],
   "source": [
    "wcsse = []\n",
    "maxclusters = 11\n",
    "for i in range(1, maxclusters):\n",
    "    kmeans = KMeans(n_clusters = i, init = 'random')\n",
    "    kmeans.fit(df)\n",
    "    print (i,kmeans.inertia_)\n",
    "    wcsse.append(kmeans.inertia_)"
   ]
  },
  {
   "cell_type": "markdown",
   "id": "83ba0a6c",
   "metadata": {},
   "source": [
    "## Plot de Gráfico para visualização do \"cotovelo\"\n",
    "### Método de Elbow"
   ]
  },
  {
   "cell_type": "code",
   "execution_count": 14,
   "id": "9a2a4627",
   "metadata": {},
   "outputs": [
    {
     "data": {
      "image/png": "[encoded data removed]",
      "text/plain": [
       "<Figure size 432x288 with 1 Axes>"
      ]
     },
     "metadata": {
      "needs_background": "light"
     },
     "output_type": "display_data"
    }
   ],
   "source": [
    "plt.plot(range(1, maxclusters), wcsse)\n",
    "plt.title('Método de Elbow')\n",
    "plt.xlabel('Qtd. de Clusters')\n",
    "plt.ylabel('WCSSE') # Within Cluster Sum of Squares\n",
    "plt.show()"
   ]
  },
  {
   "cell_type": "markdown",
   "id": "8375bd1e",
   "metadata": {},
   "source": [
    "## Predicts"
   ]
  },
  {
   "cell_type": "markdown",
   "id": "d9f2370a",
   "metadata": {},
   "source": [
    "#### Carro 1"
   ]
  },
  {
   "cell_type": "code",
   "execution_count": 15,
   "id": "acc19b77",
   "metadata": {},
   "outputs": [
    {
     "data": {
      "text/plain": [
       "array([4], dtype=int32)"
      ]
     },
     "execution_count": 15,
     "metadata": {},
     "output_type": "execute_result"
    }
   ],
   "source": [
    "new_costumer_1= [ [1, 1, 1, 1, 1, 1, 1, 1, 1, 1,1, 1, 1, 1, 1, 1, 1, 1, 1, 1, 1, 1, 1, 1, 1] ]\n",
    "kmeans.predict(new_costumer_1)"
   ]
  },
  {
   "cell_type": "markdown",
   "id": "034c5054",
   "metadata": {},
   "source": [
    "#### Carro 2"
   ]
  },
  {
   "cell_type": "code",
   "execution_count": 16,
   "id": "61ea3561",
   "metadata": {
    "pycharm": {
     "name": "#%%\n"
    }
   },
   "outputs": [
    {
     "data": {
      "text/plain": [
       "array([8], dtype=int32)"
      ]
     },
     "execution_count": 16,
     "metadata": {},
     "output_type": "execute_result"
    }
   ],
   "source": [
    "new_costumer_2 = [ [1, 0, 0, 0, 1, 1, 1, 1, 0, 1, 1, 0, 0, 0, 1, 1, 1, 1, 0, 1, 0, 1, 1, 0, 0] ]\n",
    "kmeans.predict(new_costumer_2)\n",
    "\n"
   ]
  }
 ],
 "metadata": {
  "kernelspec": {
   "display_name": "Python 3",
   "language": "python",
   "name": "python3"
  },
  "language_info": {
   "codemirror_mode": {
    "name": "ipython",
    "version": 3
   },
   "file_extension": ".py",
   "mimetype": "text/x-python",
   "name": "python",
   "nbconvert_exporter": "python",
   "pygments_lexer": "ipython3",
   "version": "3.8.8+"
  }
 },
 "nbformat": 4,
 "nbformat_minor": 5
}